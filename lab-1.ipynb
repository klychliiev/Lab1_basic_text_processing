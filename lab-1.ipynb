{
 "cells": [
  {
   "cell_type": "code",
   "execution_count": 35,
   "id": "4fd37db0",
   "metadata": {},
   "outputs": [
    {
     "name": "stdout",
     "output_type": "stream",
     "text": [
      "Кличлієв Кирило\n",
      "Група №2\n",
      "Лабораторна робота №1\n",
      "\n",
      "Введіть рядок тексту: Swedish language is a North Germanic language\n",
      "\n",
      "Замінити всі літери 'g' на 'h': Swedish lanhuahe is a North Hermanic lanhuahe\n",
      "\n",
      "Розбити на слова та вивести кожне слово через символ «&»: \n",
      "&Swedish\n",
      "&language\n",
      "&is\n",
      "&a\n",
      "&North\n",
      "&Germanic\n",
      "&language\n",
      "\n",
      "Видалити з рядка всі літери, що позначають голосні звуки: Swdsh lngg s  Nrth Grmnc lngg\n"
     ]
    }
   ],
   "source": [
    "print(\"Кличлієв Кирило\\nГрупа №2\\nЛабораторна робота №1\\n\")\n",
    "\n",
    "input_string = input(\"Введіть рядок тексту: \")\n",
    "\n",
    "new_string = input_string.replace(\"g\", \"h\")        \n",
    "final_string = new_string.replace(\"G\", \"H\")\n",
    "print(f\"\\nЗамінити всі літери 'g' на 'h': {final_string}\\n\")\n",
    "\n",
    "print(\"Розбити на слова та вивести кожне слово через символ «&»: \")\n",
    "for i in input_string.split(\" \"): \n",
    "    print(f'&{i}')         \n",
    "\n",
    "vowels = \"aeiouAEIOU\"\n",
    "no_vowels = ''.join([l for l in list(input_string) if l not in vowels])        \n",
    "print(f\"\\nВидалити з рядка всі літери, що позначають голосні звуки: {no_vowels}\")"
   ]
  },
  {
   "cell_type": "code",
   "execution_count": 34,
   "id": "3e9f4d82",
   "metadata": {},
   "outputs": [
    {
     "name": "stdout",
     "output_type": "stream",
     "text": [
      "Введіть текст українською мовою: Запоріжжя, Сян, яблуко\n",
      "\n",
      "Транслітерація шведською: Zaporizjzja, Sian, jabluko\n"
     ]
    }
   ],
   "source": [
    "input_text = list(input('Введіть текст українською мовою: '))\n",
    "\n",
    "def transliterate(input_string):\n",
    "    uk_sw_dict = {\n",
    "        'а':'a', 'б':'b', 'в':'v', 'г':'h', 'д':'d', 'е':'e', 'ж':'zj', 'з':'z', 'и':'y', 'й':'j', 'к':'k', 'л':'l', 'м':'m', 'н':'n', \n",
    "        'о':'o', 'п':'p', 'р':'r', 'с':'s', 'т':'t', 'у':'u', 'ф':'f', 'х':'ch', 'ц':'ts', 'ч':'tj', 'ш':'sj', 'щ':'sjtj', 'ь':'', \n",
    "        'ю':['ju', 'iu', 'u'], 'я':['ja', 'ia', 'a'], 'є':'je', 'ґ':'g', 'і':'i', 'ї':'ji', ' ': ' ', \"'\":\"\", 'ʼ':'', '’':'',\n",
    "        'А':'A', 'Б':'B', 'В':'V', 'Г':'H', 'Д':'D', 'Е':'E', 'Ж':'ZJ', 'З':'Z', 'И':'Y', 'Й':'J', 'К':'K', 'Л':'L', 'М':'M', 'Н':'N', \n",
    "        'О':'O', 'П':'P', 'Р':'R', 'С':'S', 'Т':'T', 'У':'U', 'Ф':'F','Х':'CH', 'Ц':'TS', 'Ч':'TJ', 'Ш':'SJ', 'Щ':'SJTJ', 'Ь':'', \n",
    "        'Ю':['JU', 'IU', 'U'], 'Я':['JA', 'IA', 'A'], 'Є':'JE', 'Ґ':'G', 'І':'I', 'Ї':'JI'\n",
    "    }\n",
    "    \n",
    "    transliterated = ''\n",
    "    \n",
    "    for count, letter in enumerate(input_text):\n",
    "        if letter=='я':\n",
    "            if input_text[count - 1] == 'ч' or input_text[count - 1] == 'ш' or input_text[count - 1] == 'щ' or input_text[count - 1] == 'ж':\n",
    "                transliterated += uk_sw_dict['я'][2]\n",
    "            elif input_text[count - 1] == 'Ч' or input_text[count - 1] == 'Ш' or input_text[count - 1] == 'Щ' or input_text[count - 1] == 'Ж':\n",
    "                transliterated += uk_sw_dict['я'][2]\n",
    "            elif input_text[count - 1] == 'з' or input_text[count - 1] == 'с' or input_text[count - 1] == 'т' or input_text[count - 1] == 'ц':\n",
    "                transliterated += uk_sw_dict['я'][1]\n",
    "            elif input_text[count - 1] == 'З' or input_text[count - 1] == 'С' or input_text[count - 1] == 'Т' or input_text[count - 1] == 'Ц':\n",
    "                transliterated += uk_sw_dict['я'][1]\n",
    "            else:\n",
    "                transliterated += uk_sw_dict['я'][0]\n",
    "        elif letter=='ю':\n",
    "            if input_text[count - 1] == 'ч' or input_text[count - 1] == 'ш' or input_text[count - 1] == 'щ' or input_text[count - 1] == 'ж':\n",
    "                transliterated += uk_sw_dict['ю'][2]\n",
    "            elif input_text[count - 1] == 'Ч' or input_text[count - 1] == 'Ш' or input_text[count - 1] == 'Щ' or input_text[count - 1] == 'Ж':\n",
    "                transliterated += uk_sw_dict['ю'][2]\n",
    "            elif input_text[count - 1] == 'з' or input_text[count - 1] == 'с' or input_text[count - 1] == 'т' or input_text[count - 1] == 'ц':\n",
    "                transliterated += uk_sw_dict['ю'][1]\n",
    "            elif input_text[count - 1] == 'З' or input_text[count - 1] == 'С' or input_text[count - 1] == 'Т' or input_text[count - 1] == 'Ц':\n",
    "                transliterated += uk_sw_dict['ю'][1]\n",
    "            else:\n",
    "                transliterated += uk_sw_dict['ю'][0]\n",
    "        elif letter in uk_sw_dict:\n",
    "            transliterated += uk_sw_dict[letter]\n",
    "        else: \n",
    "            transliterated += letter\n",
    "\n",
    "    print(f\"\\nТранслітерація шведською: {transliterated}\")\n",
    "\n",
    "transliterate(input_text)"
   ]
  },
  {
   "cell_type": "code",
   "execution_count": 13,
   "id": "f9494082",
   "metadata": {},
   "outputs": [
    {
     "name": "stdout",
     "output_type": "stream",
     "text": [
      "This is my second program\n"
     ]
    }
   ],
   "source": [
    "myStr = \"This is my first program\"\n",
    "newStr = myStr.replace(\"first\", \"second\")\n",
    "print(newStr)"
   ]
  },
  {
   "cell_type": "code",
   "execution_count": 15,
   "id": "42827f56",
   "metadata": {},
   "outputs": [
    {
     "name": "stdout",
     "output_type": "stream",
     "text": [
      "This is my first program\n"
     ]
    }
   ],
   "source": [
    "myStr = \"Thos os my forst program\"\n",
    "newStr = myStr.replace(\"o\", \"i\", 3)\n",
    "print(newStr)"
   ]
  },
  {
   "cell_type": "code",
   "execution_count": 17,
   "id": "56569636",
   "metadata": {},
   "outputs": [
    {
     "name": "stdout",
     "output_type": "stream",
     "text": [
      "German language\n"
     ]
    }
   ],
   "source": [
    "import re\n",
    "\n",
    "myStr = \"German lanhuahe\"\n",
    "newStr = re.sub(\"h\", \"g\", myStr)\n",
    "print(newStr)"
   ]
  },
  {
   "cell_type": "code",
   "execution_count": 18,
   "id": "73680398",
   "metadata": {},
   "outputs": [
    {
     "name": "stdout",
     "output_type": "stream",
     "text": [
      "abc\n"
     ]
    }
   ],
   "source": [
    "oldStr = \"aba\"\n",
    "\n",
    "strList = list(oldStr)    # конвертація рядка в список\n",
    "strList[2] = \"c\"    # заміна третього елемента в списку на \"с\"\n",
    "\n",
    "newStr = \"\".join(strList)\n",
    "print(newStr)"
   ]
  },
  {
   "cell_type": "code",
   "execution_count": 19,
   "id": "10940cb6",
   "metadata": {},
   "outputs": [
    {
     "name": "stdout",
     "output_type": "stream",
     "text": [
      "Hello Pam!\n"
     ]
    }
   ],
   "source": [
    "# використовуємо словник із ascii з кодами щоб замінити 83 (S) на 80 (P)\n",
    "myDict = {83: 80}\n",
    "txt = \"Hello Sam!\"\n",
    "print(txt.translate(myDict))"
   ]
  },
  {
   "cell_type": "code",
   "execution_count": 20,
   "id": "24e62ad3",
   "metadata": {},
   "outputs": [
    {
     "name": "stdout",
     "output_type": "stream",
     "text": [
      "Hello Pam!\n"
     ]
    }
   ],
   "source": [
    "txt = \"Hello Sam!\"\n",
    "myTable = txt.maketrans(\"S\", \"P\")\n",
    "print(txt.translate(myTable))"
   ]
  }
 ],
 "metadata": {
  "kernelspec": {
   "display_name": "Python 3 (ipykernel)",
   "language": "python",
   "name": "python3"
  },
  "language_info": {
   "codemirror_mode": {
    "name": "ipython",
    "version": 3
   },
   "file_extension": ".py",
   "mimetype": "text/x-python",
   "name": "python",
   "nbconvert_exporter": "python",
   "pygments_lexer": "ipython3",
   "version": "3.9.5"
  }
 },
 "nbformat": 4,
 "nbformat_minor": 5
}
